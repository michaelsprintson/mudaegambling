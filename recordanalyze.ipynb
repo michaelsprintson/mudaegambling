{
 "cells": [
  {
   "cell_type": "code",
   "execution_count": 1,
   "metadata": {},
   "outputs": [],
   "source": [
    "import pandas as pd\n",
    "import numpy as np\n",
    "import ast\n",
    "from collections import defaultdict"
   ]
  },
  {
   "cell_type": "code",
   "execution_count": 2,
   "metadata": {},
   "outputs": [],
   "source": [
    "rolls = ast.literal_eval(open('records-final.json','r').readlines()[0])"
   ]
  },
  {
   "cell_type": "code",
   "execution_count": 3,
   "metadata": {},
   "outputs": [],
   "source": [
    "id_name_dict = {85182215931064320: \"old_user\", 657683377725636608: \"klutz\", 657683377725636619: \"klutz\", 978030120734445628: 'Mikasino Bot', 138336085703917568: 'mikes fargo', 251112534231220224: 'superharvey', 251112534231220225: 'superharvey', 202600215255973888: 'Pinscher', 256301302886301696: 'sandmanggg', 376970858859593728: 'beetknee', 202278676199374848: 'Matt', 178957301485535232: 'Mikey S.', 432610292342587392: 'Mudae', 88020501930209280: 'Chaosfnog', 469706380220170240: 'lilabeth', 657683377725636619: 'klutz', 464498521349816320: 'Tim G', 279870739451084800: 'armadillo'}\n",
    "user_id_to_nickname = defaultdict(lambda: \"old_user\", id_name_dict)"
   ]
  },
  {
   "cell_type": "code",
   "execution_count": 4,
   "metadata": {},
   "outputs": [],
   "source": [
    "test_dict = defaultdict(lambda: 0)"
   ]
  },
  {
   "cell_type": "code",
   "execution_count": 5,
   "metadata": {},
   "outputs": [],
   "source": [
    "rolldf_old = pd.DataFrame.from_records(rolls)\n",
    "rolldf_old.columns = ['roller','name','value', 'date', 'wished', 'claimed']\n",
    "rolldf = rolldf_old[~rolldf_old['roller'].isna()]\n",
    "rolldf.loc[:,'roller'] = rolldf['roller'].apply(lambda x: user_id_to_nickname[int(x)])"
   ]
  },
  {
   "cell_type": "code",
   "execution_count": 6,
   "metadata": {},
   "outputs": [],
   "source": [
    "from collections import Counter"
   ]
  },
  {
   "cell_type": "code",
   "execution_count": 7,
   "metadata": {},
   "outputs": [],
   "source": [
    "rolldf['wished'] = rolldf['wished'].apply(lambda x: x if ((x != \"\") and (not pd.isna(x))) else None)\n",
    "rolldf['claimed'] = rolldf['claimed'].apply(lambda x: x if ((x != \"\") and (not pd.isna(x))) else None)"
   ]
  },
  {
   "cell_type": "code",
   "execution_count": 8,
   "metadata": {},
   "outputs": [
    {
     "data": {
      "text/html": [
       "<div>\n",
       "<style scoped>\n",
       "    .dataframe tbody tr th:only-of-type {\n",
       "        vertical-align: middle;\n",
       "    }\n",
       "\n",
       "    .dataframe tbody tr th {\n",
       "        vertical-align: top;\n",
       "    }\n",
       "\n",
       "    .dataframe thead th {\n",
       "        text-align: right;\n",
       "    }\n",
       "</style>\n",
       "<table border=\"1\" class=\"dataframe\">\n",
       "  <thead>\n",
       "    <tr style=\"text-align: right;\">\n",
       "      <th></th>\n",
       "      <th>roller</th>\n",
       "      <th>name</th>\n",
       "      <th>value</th>\n",
       "      <th>date</th>\n",
       "      <th>wished</th>\n",
       "      <th>claimed</th>\n",
       "    </tr>\n",
       "  </thead>\n",
       "  <tbody>\n",
       "    <tr>\n",
       "      <th>26611</th>\n",
       "      <td>lilabeth</td>\n",
       "      <td>Ash's Infernape</td>\n",
       "      <td>69</td>\n",
       "      <td>06/12/2022, 18:52:19</td>\n",
       "      <td>2.563013e+17</td>\n",
       "      <td>NaN</td>\n",
       "    </tr>\n",
       "    <tr>\n",
       "      <th>73773</th>\n",
       "      <td>beetknee</td>\n",
       "      <td>Fischl</td>\n",
       "      <td>262</td>\n",
       "      <td>05/21/2022, 05:12:54</td>\n",
       "      <td>3.769709e+17</td>\n",
       "      <td>NaN</td>\n",
       "    </tr>\n",
       "    <tr>\n",
       "      <th>75542</th>\n",
       "      <td>lilabeth</td>\n",
       "      <td>Echidna</td>\n",
       "      <td>549</td>\n",
       "      <td>05/20/2022, 08:55:45</td>\n",
       "      <td>3.769709e+17</td>\n",
       "      <td>NaN</td>\n",
       "    </tr>\n",
       "    <tr>\n",
       "      <th>108546</th>\n",
       "      <td>old_user</td>\n",
       "      <td>Maki Zenin</td>\n",
       "      <td>552</td>\n",
       "      <td>05/05/2022, 10:14:11</td>\n",
       "      <td>2.798707e+17</td>\n",
       "      <td>NaN</td>\n",
       "    </tr>\n",
       "    <tr>\n",
       "      <th>114027</th>\n",
       "      <td>old_user</td>\n",
       "      <td>Korra</td>\n",
       "      <td>226</td>\n",
       "      <td>05/02/2022, 21:50:44</td>\n",
       "      <td>2.511125e+17</td>\n",
       "      <td>NaN</td>\n",
       "    </tr>\n",
       "    <tr>\n",
       "      <th>121846</th>\n",
       "      <td>old_user</td>\n",
       "      <td>Mew</td>\n",
       "      <td>192</td>\n",
       "      <td>04/26/2022, 00:16:52</td>\n",
       "      <td>8.518222e+16</td>\n",
       "      <td>NaN</td>\n",
       "    </tr>\n",
       "  </tbody>\n",
       "</table>\n",
       "</div>"
      ],
      "text/plain": [
       "          roller             name  value                  date        wished  \\\n",
       "26611   lilabeth  Ash's Infernape     69  06/12/2022, 18:52:19  2.563013e+17   \n",
       "73773   beetknee           Fischl    262  05/21/2022, 05:12:54  3.769709e+17   \n",
       "75542   lilabeth          Echidna    549  05/20/2022, 08:55:45  3.769709e+17   \n",
       "108546  old_user       Maki Zenin    552  05/05/2022, 10:14:11  2.798707e+17   \n",
       "114027  old_user            Korra    226  05/02/2022, 21:50:44  2.511125e+17   \n",
       "121846  old_user              Mew    192  04/26/2022, 00:16:52  8.518222e+16   \n",
       "\n",
       "        claimed  \n",
       "26611       NaN  \n",
       "73773       NaN  \n",
       "75542       NaN  \n",
       "108546      NaN  \n",
       "114027      NaN  \n",
       "121846      NaN  "
      ]
     },
     "execution_count": 8,
     "metadata": {},
     "output_type": "execute_result"
    }
   ],
   "source": [
    "rolldf[(~rolldf['wished'].isna()) & (rolldf['claimed'].isna())]"
   ]
  },
  {
   "cell_type": "code",
   "execution_count": 9,
   "metadata": {},
   "outputs": [],
   "source": [
    "claims = rolldf[~rolldf['claimed'].isna()]"
   ]
  },
  {
   "cell_type": "code",
   "execution_count": 10,
   "metadata": {},
   "outputs": [
    {
     "data": {
      "text/html": [
       "<div>\n",
       "<style scoped>\n",
       "    .dataframe tbody tr th:only-of-type {\n",
       "        vertical-align: middle;\n",
       "    }\n",
       "\n",
       "    .dataframe tbody tr th {\n",
       "        vertical-align: top;\n",
       "    }\n",
       "\n",
       "    .dataframe thead th {\n",
       "        text-align: right;\n",
       "    }\n",
       "</style>\n",
       "<table border=\"1\" class=\"dataframe\">\n",
       "  <thead>\n",
       "    <tr style=\"text-align: right;\">\n",
       "      <th></th>\n",
       "      <th>roller</th>\n",
       "      <th>name</th>\n",
       "      <th>value</th>\n",
       "      <th>date</th>\n",
       "      <th>wished</th>\n",
       "      <th>claimed</th>\n",
       "    </tr>\n",
       "  </thead>\n",
       "  <tbody>\n",
       "    <tr>\n",
       "      <th>4978</th>\n",
       "      <td>superharvey</td>\n",
       "      <td>Rem</td>\n",
       "      <td>1458</td>\n",
       "      <td>06/23/2022, 16:44:18</td>\n",
       "      <td>2.511125e+17</td>\n",
       "      <td>2.511125e+17</td>\n",
       "    </tr>\n",
       "    <tr>\n",
       "      <th>9807</th>\n",
       "      <td>armadillo</td>\n",
       "      <td>Asuna</td>\n",
       "      <td>1374</td>\n",
       "      <td>06/21/2022, 05:08:00</td>\n",
       "      <td>2.798707e+17</td>\n",
       "      <td>2.511125e+17</td>\n",
       "    </tr>\n",
       "    <tr>\n",
       "      <th>69478</th>\n",
       "      <td>armadillo</td>\n",
       "      <td>Mai Sakurajima</td>\n",
       "      <td>1151</td>\n",
       "      <td>05/23/2022, 12:05:24</td>\n",
       "      <td>2.798707e+17</td>\n",
       "      <td>2.798707e+17</td>\n",
       "    </tr>\n",
       "    <tr>\n",
       "      <th>68205</th>\n",
       "      <td>armadillo</td>\n",
       "      <td>Mikasa Ackerman</td>\n",
       "      <td>1150</td>\n",
       "      <td>05/24/2022, 01:57:10</td>\n",
       "      <td>2.798707e+17</td>\n",
       "      <td>2.798707e+17</td>\n",
       "    </tr>\n",
       "    <tr>\n",
       "      <th>34919</th>\n",
       "      <td>armadillo</td>\n",
       "      <td>Ram</td>\n",
       "      <td>1138</td>\n",
       "      <td>06/08/2022, 15:40:55</td>\n",
       "      <td>2.798707e+17</td>\n",
       "      <td>2.798707e+17</td>\n",
       "    </tr>\n",
       "    <tr>\n",
       "      <th>...</th>\n",
       "      <td>...</td>\n",
       "      <td>...</td>\n",
       "      <td>...</td>\n",
       "      <td>...</td>\n",
       "      <td>...</td>\n",
       "      <td>...</td>\n",
       "    </tr>\n",
       "    <tr>\n",
       "      <th>116115</th>\n",
       "      <td>armadillo</td>\n",
       "      <td>Chip (FV)</td>\n",
       "      <td>27</td>\n",
       "      <td>05/01/2022, 08:45:11</td>\n",
       "      <td>NaN</td>\n",
       "      <td>3.769709e+17</td>\n",
       "    </tr>\n",
       "    <tr>\n",
       "      <th>116195</th>\n",
       "      <td>Mikey S.</td>\n",
       "      <td>Spooky Spoon</td>\n",
       "      <td>27</td>\n",
       "      <td>05/01/2022, 07:18:08</td>\n",
       "      <td>NaN</td>\n",
       "      <td>1.789573e+17</td>\n",
       "    </tr>\n",
       "    <tr>\n",
       "      <th>115310</th>\n",
       "      <td>mikes fargo</td>\n",
       "      <td>Ramos's Jumpluff</td>\n",
       "      <td>27</td>\n",
       "      <td>05/02/2022, 00:56:49</td>\n",
       "      <td>NaN</td>\n",
       "      <td>2.563013e+17</td>\n",
       "    </tr>\n",
       "    <tr>\n",
       "      <th>121743</th>\n",
       "      <td>old_user</td>\n",
       "      <td>Drowsy</td>\n",
       "      <td>26</td>\n",
       "      <td>04/26/2022, 02:19:08</td>\n",
       "      <td>NaN</td>\n",
       "      <td>2.511125e+17</td>\n",
       "    </tr>\n",
       "    <tr>\n",
       "      <th>120127</th>\n",
       "      <td>superharvey</td>\n",
       "      <td>Johanna's Glameow</td>\n",
       "      <td>26</td>\n",
       "      <td>04/27/2022, 18:16:59</td>\n",
       "      <td>NaN</td>\n",
       "      <td>2.511125e+17</td>\n",
       "    </tr>\n",
       "  </tbody>\n",
       "</table>\n",
       "<p>3518 rows × 6 columns</p>\n",
       "</div>"
      ],
      "text/plain": [
       "             roller               name  value                  date  \\\n",
       "4978    superharvey                Rem   1458  06/23/2022, 16:44:18   \n",
       "9807      armadillo              Asuna   1374  06/21/2022, 05:08:00   \n",
       "69478     armadillo     Mai Sakurajima   1151  05/23/2022, 12:05:24   \n",
       "68205     armadillo    Mikasa Ackerman   1150  05/24/2022, 01:57:10   \n",
       "34919     armadillo                Ram   1138  06/08/2022, 15:40:55   \n",
       "...             ...                ...    ...                   ...   \n",
       "116115    armadillo          Chip (FV)     27  05/01/2022, 08:45:11   \n",
       "116195     Mikey S.       Spooky Spoon     27  05/01/2022, 07:18:08   \n",
       "115310  mikes fargo   Ramos's Jumpluff     27  05/02/2022, 00:56:49   \n",
       "121743     old_user             Drowsy     26  04/26/2022, 02:19:08   \n",
       "120127  superharvey  Johanna's Glameow     26  04/27/2022, 18:16:59   \n",
       "\n",
       "              wished       claimed  \n",
       "4978    2.511125e+17  2.511125e+17  \n",
       "9807    2.798707e+17  2.511125e+17  \n",
       "69478   2.798707e+17  2.798707e+17  \n",
       "68205   2.798707e+17  2.798707e+17  \n",
       "34919   2.798707e+17  2.798707e+17  \n",
       "...              ...           ...  \n",
       "116115           NaN  3.769709e+17  \n",
       "116195           NaN  1.789573e+17  \n",
       "115310           NaN  2.563013e+17  \n",
       "121743           NaN  2.511125e+17  \n",
       "120127           NaN  2.511125e+17  \n",
       "\n",
       "[3518 rows x 6 columns]"
      ]
     },
     "execution_count": 10,
     "metadata": {},
     "output_type": "execute_result"
    }
   ],
   "source": [
    "claims.sort_values(['value'], ascending=False)"
   ]
  },
  {
   "cell_type": "code",
   "execution_count": 11,
   "metadata": {},
   "outputs": [],
   "source": [
    "chars_claimed = {user_id_to_nickname[k]:v for k,v in dict(Counter(claims['claimed'])).items()}"
   ]
  },
  {
   "cell_type": "code",
   "execution_count": 12,
   "metadata": {},
   "outputs": [],
   "source": [
    "char_claim_sum = {user_id_to_nickname[k]: v for k,v in claims.groupby(['claimed']).sum().sort_values(['value'], ascending = False)[['value']].to_dict()['value'].items()}"
   ]
  },
  {
   "cell_type": "code",
   "execution_count": 13,
   "metadata": {},
   "outputs": [],
   "source": [
    "avg_claim_val = {k:(char_claim_sum[k] / chars_claimed[k]) for k in chars_claimed.keys()}"
   ]
  },
  {
   "cell_type": "code",
   "execution_count": 52,
   "metadata": {},
   "outputs": [
    {
     "data": {
      "text/plain": [
       "armadillo      585\n",
       "beetknee       580\n",
       "superharvey    559\n",
       "lilabeth       475\n",
       "Chaosfnog      454\n",
       "klutz          247\n",
       "mikes fargo    212\n",
       "Matt           164\n",
       "sandmanggg     106\n",
       "Mikey S.        72\n",
       "Pinscher        61\n",
       "Tim G            3\n",
       "dtype: int64"
      ]
     },
     "execution_count": 52,
     "metadata": {},
     "output_type": "execute_result"
    }
   ],
   "source": [
    "pd.Series(chars_claimed).sort_values(ascending=False)"
   ]
  },
  {
   "cell_type": "code",
   "execution_count": 14,
   "metadata": {},
   "outputs": [
    {
     "data": {
      "text/plain": [
       "armadillo      191.531624\n",
       "beetknee       187.898276\n",
       "superharvey    185.914132\n",
       "lilabeth       166.242105\n",
       "mikes fargo    159.216981\n",
       "Chaosfnog      136.960352\n",
       "Matt           130.817073\n",
       "Mikey S.       120.152778\n",
       "klutz          113.672065\n",
       "sandmanggg     111.292453\n",
       "Pinscher        64.754098\n",
       "Tim G           55.333333\n",
       "dtype: float64"
      ]
     },
     "execution_count": 14,
     "metadata": {},
     "output_type": "execute_result"
    }
   ],
   "source": [
    "pd.Series(avg_claim_val).sort_values(ascending=False)"
   ]
  },
  {
   "cell_type": "code",
   "execution_count": 15,
   "metadata": {},
   "outputs": [
    {
     "data": {
      "text/plain": [
       "('04/25/2022, 06:57:26', '06/25/2022, 21:47:17')"
      ]
     },
     "execution_count": 15,
     "metadata": {},
     "output_type": "execute_result"
    }
   ],
   "source": [
    "claims['date'].min(), claims['date'].max()"
   ]
  },
  {
   "cell_type": "code",
   "execution_count": 16,
   "metadata": {},
   "outputs": [],
   "source": [
    "from dateutil import parser"
   ]
  },
  {
   "cell_type": "code",
   "execution_count": 17,
   "metadata": {},
   "outputs": [],
   "source": [
    "import datetime"
   ]
  },
  {
   "cell_type": "code",
   "execution_count": 18,
   "metadata": {},
   "outputs": [
    {
     "data": {
      "text/plain": [
       "datetime.datetime(2022, 4, 25, 6, 57, 26)"
      ]
     },
     "execution_count": 18,
     "metadata": {},
     "output_type": "execute_result"
    }
   ],
   "source": [
    "parser.parse(claims['date'].min())"
   ]
  },
  {
   "cell_type": "code",
   "execution_count": 21,
   "metadata": {},
   "outputs": [
    {
     "name": "stderr",
     "output_type": "stream",
     "text": [
      "/var/folders/v9/3_pg27y54rq24839ms3rtlm00000gn/T/ipykernel_3155/2768825277.py:1: SettingWithCopyWarning: \n",
      "A value is trying to be set on a copy of a slice from a DataFrame.\n",
      "Try using .loc[row_indexer,col_indexer] = value instead\n",
      "\n",
      "See the caveats in the documentation: https://pandas.pydata.org/pandas-docs/stable/user_guide/indexing.html#returning-a-view-versus-a-copy\n",
      "  claims.loc[:, 'dateparse'] = claims.loc[:,'date'].apply(parser.parse)\n"
     ]
    }
   ],
   "source": [
    "claims.loc[:, 'dateparse'] = claims.loc[:,'date'].apply(parser.parse)"
   ]
  },
  {
   "cell_type": "code",
   "execution_count": 79,
   "metadata": {},
   "outputs": [],
   "source": [
    "totsec = int((parser.parse(claims['date'].max()) - parser.parse(claims['date'].min())).total_seconds())"
   ]
  },
  {
   "cell_type": "code",
   "execution_count": 80,
   "metadata": {},
   "outputs": [],
   "source": [
    "values = {i:{} for i in list(id_name_dict.keys())}\n",
    "for secbar in range(0, totsec, totsec // 1000):\n",
    "    td = parser.parse(claims['date'].min()) + datetime.timedelta(seconds = secbar)\n",
    "    claimeddict = claims[claims['dateparse'] < td].groupby(['claimed']).count()['roller'].to_dict()\n",
    "    for k,v in claimeddict.items():\n",
    "        # print(secbar)\n",
    "        values[int(k)][td] = v"
   ]
  },
  {
   "cell_type": "code",
   "execution_count": 81,
   "metadata": {},
   "outputs": [],
   "source": [
    "import matplotlib.pyplot as plt"
   ]
  },
  {
   "cell_type": "code",
   "execution_count": 82,
   "metadata": {},
   "outputs": [],
   "source": [
    "inter_values = {k:v for k,v in values.items() if len(v) > 0}"
   ]
  },
  {
   "cell_type": "code",
   "execution_count": 83,
   "metadata": {},
   "outputs": [],
   "source": [
    "pltvalues = {user_id_to_nickname[k]:v for k,v in inter_values.items()}"
   ]
  },
  {
   "cell_type": "code",
   "execution_count": 84,
   "metadata": {},
   "outputs": [
    {
     "data": {
      "text/plain": [
       "Timestamp('2022-04-25 08:26:09')"
      ]
     },
     "execution_count": 84,
     "metadata": {},
     "output_type": "execute_result"
    }
   ],
   "source": [
    "min(list(pd.DataFrame(pltvalues).index))"
   ]
  },
  {
   "cell_type": "code",
   "execution_count": 85,
   "metadata": {},
   "outputs": [
    {
     "data": {
      "text/plain": [
       "<AxesSubplot:>"
      ]
     },
     "execution_count": 85,
     "metadata": {},
     "output_type": "execute_result"
    },
    {
     "data": {
      "image/png": "[encoded data removed]",
      "text/plain": [
       "<Figure size 1080x720 with 1 Axes>"
      ]
     },
     "metadata": {
      "needs_background": "light"
     },
     "output_type": "display_data"
    }
   ],
   "source": [
    "pd.DataFrame(pltvalues).sort_index().fillna(method = \"bfill\").plot(figsize = (15,10))"
   ]
  },
  {
   "cell_type": "code",
   "execution_count": null,
   "metadata": {},
   "outputs": [],
   "source": []
  },
  {
   "cell_type": "code",
   "execution_count": 202,
   "metadata": {},
   "outputs": [
    {
     "data": {
      "text/plain": [
       "{2.0227867619937485e+17: 1,\n",
       " 2.5111253423122022e+17: 3,\n",
       " 2.798707394510848e+17: 3,\n",
       " 3.769708588595937e+17: 4}"
      ]
     },
     "execution_count": 202,
     "metadata": {},
     "output_type": "execute_result"
    }
   ],
   "source": [
    "claims[claims['dateparse'] < td].groupby(['claimed']).count()['roller'].to_dict()"
   ]
  },
  {
   "cell_type": "code",
   "execution_count": 199,
   "metadata": {},
   "outputs": [
    {
     "data": {
      "text/html": [
       "<div>\n",
       "<style scoped>\n",
       "    .dataframe tbody tr th:only-of-type {\n",
       "        vertical-align: middle;\n",
       "    }\n",
       "\n",
       "    .dataframe tbody tr th {\n",
       "        vertical-align: top;\n",
       "    }\n",
       "\n",
       "    .dataframe thead th {\n",
       "        text-align: right;\n",
       "    }\n",
       "</style>\n",
       "<table border=\"1\" class=\"dataframe\">\n",
       "  <thead>\n",
       "    <tr style=\"text-align: right;\">\n",
       "      <th></th>\n",
       "      <th>roller</th>\n",
       "      <th>name</th>\n",
       "      <th>value</th>\n",
       "      <th>date</th>\n",
       "      <th>wished</th>\n",
       "      <th>claimed</th>\n",
       "      <th>dateparse</th>\n",
       "    </tr>\n",
       "  </thead>\n",
       "  <tbody>\n",
       "    <tr>\n",
       "      <th>122022</th>\n",
       "      <td>Matt</td>\n",
       "      <td>Mordred</td>\n",
       "      <td>347</td>\n",
       "      <td>04/25/2022, 21:35:52</td>\n",
       "      <td>NaN</td>\n",
       "      <td>2.022787e+17</td>\n",
       "      <td>2022-04-25 21:35:52</td>\n",
       "    </tr>\n",
       "    <tr>\n",
       "      <th>121743</th>\n",
       "      <td>old_user</td>\n",
       "      <td>Drowsy</td>\n",
       "      <td>26</td>\n",
       "      <td>04/26/2022, 02:19:08</td>\n",
       "      <td>NaN</td>\n",
       "      <td>2.511125e+17</td>\n",
       "      <td>2022-04-26 02:19:08</td>\n",
       "    </tr>\n",
       "    <tr>\n",
       "      <th>121855</th>\n",
       "      <td>superharvey</td>\n",
       "      <td>Valerie Gray</td>\n",
       "      <td>29</td>\n",
       "      <td>04/26/2022, 00:04:01</td>\n",
       "      <td>NaN</td>\n",
       "      <td>2.511125e+17</td>\n",
       "      <td>2022-04-26 00:04:01</td>\n",
       "    </tr>\n",
       "    <tr>\n",
       "      <th>122069</th>\n",
       "      <td>old_user</td>\n",
       "      <td>Toge Inumaki</td>\n",
       "      <td>383</td>\n",
       "      <td>04/25/2022, 20:08:34</td>\n",
       "      <td>NaN</td>\n",
       "      <td>2.511125e+17</td>\n",
       "      <td>2022-04-25 20:08:34</td>\n",
       "    </tr>\n",
       "    <tr>\n",
       "      <th>121721</th>\n",
       "      <td>superharvey</td>\n",
       "      <td>Milk Bear</td>\n",
       "      <td>79</td>\n",
       "      <td>04/26/2022, 02:49:33</td>\n",
       "      <td>NaN</td>\n",
       "      <td>2.798707e+17</td>\n",
       "      <td>2022-04-26 02:49:33</td>\n",
       "    </tr>\n",
       "    <tr>\n",
       "      <th>121874</th>\n",
       "      <td>superharvey</td>\n",
       "      <td>The Fairy Godmother</td>\n",
       "      <td>30</td>\n",
       "      <td>04/25/2022, 23:50:42</td>\n",
       "      <td>NaN</td>\n",
       "      <td>2.798707e+17</td>\n",
       "      <td>2022-04-25 23:50:42</td>\n",
       "    </tr>\n",
       "    <tr>\n",
       "      <th>122080</th>\n",
       "      <td>armadillo</td>\n",
       "      <td>Nezumi (Bananya)</td>\n",
       "      <td>41</td>\n",
       "      <td>04/25/2022, 19:57:28</td>\n",
       "      <td>NaN</td>\n",
       "      <td>2.798707e+17</td>\n",
       "      <td>2022-04-25 19:57:28</td>\n",
       "    </tr>\n",
       "    <tr>\n",
       "      <th>121786</th>\n",
       "      <td>beetknee</td>\n",
       "      <td>Athanasia de Alger Obelia</td>\n",
       "      <td>119</td>\n",
       "      <td>04/26/2022, 01:53:22</td>\n",
       "      <td>NaN</td>\n",
       "      <td>3.769709e+17</td>\n",
       "      <td>2022-04-26 01:53:22</td>\n",
       "    </tr>\n",
       "    <tr>\n",
       "      <th>121865</th>\n",
       "      <td>beetknee</td>\n",
       "      <td>Ash's Bayleef</td>\n",
       "      <td>41</td>\n",
       "      <td>04/25/2022, 23:59:43</td>\n",
       "      <td>NaN</td>\n",
       "      <td>3.769709e+17</td>\n",
       "      <td>2022-04-25 23:59:43</td>\n",
       "    </tr>\n",
       "    <tr>\n",
       "      <th>122132</th>\n",
       "      <td>old_user</td>\n",
       "      <td>Arceus</td>\n",
       "      <td>143</td>\n",
       "      <td>04/25/2022, 19:40:33</td>\n",
       "      <td>NaN</td>\n",
       "      <td>3.769709e+17</td>\n",
       "      <td>2022-04-25 19:40:33</td>\n",
       "    </tr>\n",
       "    <tr>\n",
       "      <th>122248</th>\n",
       "      <td>old_user</td>\n",
       "      <td>Darul Alucard</td>\n",
       "      <td>29</td>\n",
       "      <td>04/25/2022, 06:57:26</td>\n",
       "      <td>NaN</td>\n",
       "      <td>3.769709e+17</td>\n",
       "      <td>2022-04-25 06:57:26</td>\n",
       "    </tr>\n",
       "  </tbody>\n",
       "</table>\n",
       "</div>"
      ],
      "text/plain": [
       "             roller                       name  value                  date  \\\n",
       "122022         Matt                    Mordred    347  04/25/2022, 21:35:52   \n",
       "121743     old_user                     Drowsy     26  04/26/2022, 02:19:08   \n",
       "121855  superharvey               Valerie Gray     29  04/26/2022, 00:04:01   \n",
       "122069     old_user               Toge Inumaki    383  04/25/2022, 20:08:34   \n",
       "121721  superharvey                  Milk Bear     79  04/26/2022, 02:49:33   \n",
       "121874  superharvey        The Fairy Godmother     30  04/25/2022, 23:50:42   \n",
       "122080    armadillo           Nezumi (Bananya)     41  04/25/2022, 19:57:28   \n",
       "121786     beetknee  Athanasia de Alger Obelia    119  04/26/2022, 01:53:22   \n",
       "121865     beetknee              Ash's Bayleef     41  04/25/2022, 23:59:43   \n",
       "122132     old_user                     Arceus    143  04/25/2022, 19:40:33   \n",
       "122248     old_user              Darul Alucard     29  04/25/2022, 06:57:26   \n",
       "\n",
       "        wished       claimed           dateparse  \n",
       "122022     NaN  2.022787e+17 2022-04-25 21:35:52  \n",
       "121743     NaN  2.511125e+17 2022-04-26 02:19:08  \n",
       "121855     NaN  2.511125e+17 2022-04-26 00:04:01  \n",
       "122069     NaN  2.511125e+17 2022-04-25 20:08:34  \n",
       "121721     NaN  2.798707e+17 2022-04-26 02:49:33  \n",
       "121874     NaN  2.798707e+17 2022-04-25 23:50:42  \n",
       "122080     NaN  2.798707e+17 2022-04-25 19:57:28  \n",
       "121786     NaN  3.769709e+17 2022-04-26 01:53:22  \n",
       "121865     NaN  3.769709e+17 2022-04-25 23:59:43  \n",
       "122132     NaN  3.769709e+17 2022-04-25 19:40:33  \n",
       "122248     NaN  3.769709e+17 2022-04-25 06:57:26  "
      ]
     },
     "execution_count": 199,
     "metadata": {},
     "output_type": "execute_result"
    }
   ],
   "source": [
    "claims[claims['dateparse'] < td].sort_values(['claimed'])"
   ]
  },
  {
   "cell_type": "code",
   "execution_count": 106,
   "metadata": {},
   "outputs": [],
   "source": [
    "wishes = rolldf[~rolldf['wished'].isna()]"
   ]
  },
  {
   "cell_type": "code",
   "execution_count": 122,
   "metadata": {},
   "outputs": [
    {
     "data": {
      "text/plain": [
       "{'beetknee': 63,\n",
       " 'armadillo': 38,\n",
       " 'Chaosfnog': 38,\n",
       " 'lilabeth': 34,\n",
       " 'superharvey': 30,\n",
       " 'klutz': 15,\n",
       " 'mikes fargo': 11,\n",
       " 'Matt': 5,\n",
       " 'old_user': 5,\n",
       " 'Mikey S.': 3,\n",
       " 'sandmanggg': 2}"
      ]
     },
     "execution_count": 122,
     "metadata": {},
     "output_type": "execute_result"
    }
   ],
   "source": [
    "d = dict(Counter(wishes['roller']))\n",
    "{i:d[i] for i in sorted(d, key=lambda x: -d[x])}"
   ]
  },
  {
   "cell_type": "code",
   "execution_count": null,
   "metadata": {},
   "outputs": [],
   "source": []
  },
  {
   "cell_type": "code",
   "execution_count": null,
   "metadata": {},
   "outputs": [],
   "source": []
  },
  {
   "cell_type": "code",
   "execution_count": 107,
   "metadata": {},
   "outputs": [],
   "source": [
    "d = dict(Counter(wishes['wished']))"
   ]
  },
  {
   "cell_type": "code",
   "execution_count": 108,
   "metadata": {},
   "outputs": [
    {
     "data": {
      "text/plain": [
       "[('beetknee', 61),\n",
       " ('armadillo', 40),\n",
       " ('superharvey', 32),\n",
       " ('lilabeth', 30),\n",
       " ('Chaosfnog', 26),\n",
       " ('mikes fargo', 14),\n",
       " ('old_user', 12),\n",
       " ('Matt', 11),\n",
       " ('Mikey S.', 8),\n",
       " ('sandmanggg', 8),\n",
       " ('old_user', 2)]"
      ]
     },
     "execution_count": 108,
     "metadata": {},
     "output_type": "execute_result"
    }
   ],
   "source": [
    "[(user_id_to_nickname[k],v) for k,v in {i:d[i] for i in sorted(d, key=lambda x: -d[x])}.items()]"
   ]
  },
  {
   "cell_type": "code",
   "execution_count": 109,
   "metadata": {},
   "outputs": [
    {
     "data": {
      "text/html": [
       "<div>\n",
       "<style scoped>\n",
       "    .dataframe tbody tr th:only-of-type {\n",
       "        vertical-align: middle;\n",
       "    }\n",
       "\n",
       "    .dataframe tbody tr th {\n",
       "        vertical-align: top;\n",
       "    }\n",
       "\n",
       "    .dataframe thead th {\n",
       "        text-align: right;\n",
       "    }\n",
       "</style>\n",
       "<table border=\"1\" class=\"dataframe\">\n",
       "  <thead>\n",
       "    <tr style=\"text-align: right;\">\n",
       "      <th></th>\n",
       "      <th>roller</th>\n",
       "      <th>name</th>\n",
       "      <th>value</th>\n",
       "      <th>date</th>\n",
       "      <th>wished</th>\n",
       "      <th>claimed</th>\n",
       "    </tr>\n",
       "  </thead>\n",
       "  <tbody>\n",
       "    <tr>\n",
       "      <th>3453</th>\n",
       "      <td>beetknee</td>\n",
       "      <td>Zero Two</td>\n",
       "      <td>1479</td>\n",
       "      <td>06/24/2022, 06:23:50</td>\n",
       "      <td>NaN</td>\n",
       "      <td>NaN</td>\n",
       "    </tr>\n",
       "    <tr>\n",
       "      <th>4978</th>\n",
       "      <td>superharvey</td>\n",
       "      <td>Rem</td>\n",
       "      <td>1458</td>\n",
       "      <td>06/23/2022, 16:44:18</td>\n",
       "      <td>2.511125e+17</td>\n",
       "      <td>2.511125e+17</td>\n",
       "    </tr>\n",
       "    <tr>\n",
       "      <th>5426</th>\n",
       "      <td>superharvey</td>\n",
       "      <td>Mikasa Ackerman</td>\n",
       "      <td>1399</td>\n",
       "      <td>06/23/2022, 06:53:36</td>\n",
       "      <td>NaN</td>\n",
       "      <td>NaN</td>\n",
       "    </tr>\n",
       "    <tr>\n",
       "      <th>9807</th>\n",
       "      <td>armadillo</td>\n",
       "      <td>Asuna</td>\n",
       "      <td>1374</td>\n",
       "      <td>06/21/2022, 05:08:00</td>\n",
       "      <td>2.798707e+17</td>\n",
       "      <td>2.511125e+17</td>\n",
       "    </tr>\n",
       "    <tr>\n",
       "      <th>33257</th>\n",
       "      <td>superharvey</td>\n",
       "      <td>Mai Sakurajima</td>\n",
       "      <td>1285</td>\n",
       "      <td>06/09/2022, 06:55:34</td>\n",
       "      <td>NaN</td>\n",
       "      <td>NaN</td>\n",
       "    </tr>\n",
       "    <tr>\n",
       "      <th>6486</th>\n",
       "      <td>armadillo</td>\n",
       "      <td>Miku Nakano</td>\n",
       "      <td>1273</td>\n",
       "      <td>06/22/2022, 21:47:09</td>\n",
       "      <td>NaN</td>\n",
       "      <td>NaN</td>\n",
       "    </tr>\n",
       "    <tr>\n",
       "      <th>6414</th>\n",
       "      <td>armadillo</td>\n",
       "      <td>Miku Nakano</td>\n",
       "      <td>1273</td>\n",
       "      <td>06/22/2022, 22:20:16</td>\n",
       "      <td>NaN</td>\n",
       "      <td>NaN</td>\n",
       "    </tr>\n",
       "    <tr>\n",
       "      <th>2442</th>\n",
       "      <td>armadillo</td>\n",
       "      <td>Violet Evergarden</td>\n",
       "      <td>1213</td>\n",
       "      <td>06/24/2022, 19:45:31</td>\n",
       "      <td>NaN</td>\n",
       "      <td>NaN</td>\n",
       "    </tr>\n",
       "    <tr>\n",
       "      <th>69478</th>\n",
       "      <td>armadillo</td>\n",
       "      <td>Mai Sakurajima</td>\n",
       "      <td>1151</td>\n",
       "      <td>05/23/2022, 12:05:24</td>\n",
       "      <td>2.798707e+17</td>\n",
       "      <td>2.798707e+17</td>\n",
       "    </tr>\n",
       "    <tr>\n",
       "      <th>68205</th>\n",
       "      <td>armadillo</td>\n",
       "      <td>Mikasa Ackerman</td>\n",
       "      <td>1150</td>\n",
       "      <td>05/24/2022, 01:57:10</td>\n",
       "      <td>2.798707e+17</td>\n",
       "      <td>2.798707e+17</td>\n",
       "    </tr>\n",
       "    <tr>\n",
       "      <th>39892</th>\n",
       "      <td>armadillo</td>\n",
       "      <td>Gojo Satoru</td>\n",
       "      <td>1145</td>\n",
       "      <td>06/06/2022, 02:46:53</td>\n",
       "      <td>NaN</td>\n",
       "      <td>NaN</td>\n",
       "    </tr>\n",
       "    <tr>\n",
       "      <th>47738</th>\n",
       "      <td>armadillo</td>\n",
       "      <td>Emilia</td>\n",
       "      <td>1142</td>\n",
       "      <td>06/02/2022, 14:58:14</td>\n",
       "      <td>NaN</td>\n",
       "      <td>NaN</td>\n",
       "    </tr>\n",
       "    <tr>\n",
       "      <th>34919</th>\n",
       "      <td>armadillo</td>\n",
       "      <td>Ram</td>\n",
       "      <td>1138</td>\n",
       "      <td>06/08/2022, 15:40:55</td>\n",
       "      <td>2.798707e+17</td>\n",
       "      <td>2.798707e+17</td>\n",
       "    </tr>\n",
       "    <tr>\n",
       "      <th>241</th>\n",
       "      <td>armadillo</td>\n",
       "      <td>Shiro</td>\n",
       "      <td>1129</td>\n",
       "      <td>06/25/2022, 19:46:06</td>\n",
       "      <td>NaN</td>\n",
       "      <td>NaN</td>\n",
       "    </tr>\n",
       "    <tr>\n",
       "      <th>62627</th>\n",
       "      <td>beetknee</td>\n",
       "      <td>Saber</td>\n",
       "      <td>1122</td>\n",
       "      <td>05/26/2022, 20:35:21</td>\n",
       "      <td>3.769709e+17</td>\n",
       "      <td>2.511125e+17</td>\n",
       "    </tr>\n",
       "    <tr>\n",
       "      <th>109630</th>\n",
       "      <td>old_user</td>\n",
       "      <td>Zero Two</td>\n",
       "      <td>1113</td>\n",
       "      <td>05/05/2022, 02:49:27</td>\n",
       "      <td>2.511125e+17</td>\n",
       "      <td>2.798707e+17</td>\n",
       "    </tr>\n",
       "    <tr>\n",
       "      <th>50976</th>\n",
       "      <td>Chaosfnog</td>\n",
       "      <td>Gojo Satoru</td>\n",
       "      <td>1110</td>\n",
       "      <td>06/01/2022, 01:46:07</td>\n",
       "      <td>NaN</td>\n",
       "      <td>NaN</td>\n",
       "    </tr>\n",
       "    <tr>\n",
       "      <th>92090</th>\n",
       "      <td>armadillo</td>\n",
       "      <td>Nezuko Kamado</td>\n",
       "      <td>1094</td>\n",
       "      <td>05/12/2022, 22:46:54</td>\n",
       "      <td>2.511125e+17</td>\n",
       "      <td>2.511125e+17</td>\n",
       "    </tr>\n",
       "    <tr>\n",
       "      <th>19855</th>\n",
       "      <td>armadillo</td>\n",
       "      <td>Himiko Toga</td>\n",
       "      <td>1081</td>\n",
       "      <td>06/16/2022, 08:46:16</td>\n",
       "      <td>NaN</td>\n",
       "      <td>NaN</td>\n",
       "    </tr>\n",
       "    <tr>\n",
       "      <th>48632</th>\n",
       "      <td>Pinscher</td>\n",
       "      <td>Chika Fujiwara</td>\n",
       "      <td>1078</td>\n",
       "      <td>06/02/2022, 02:29:37</td>\n",
       "      <td>NaN</td>\n",
       "      <td>NaN</td>\n",
       "    </tr>\n",
       "  </tbody>\n",
       "</table>\n",
       "</div>"
      ],
      "text/plain": [
       "             roller               name  value                  date  \\\n",
       "3453       beetknee           Zero Two   1479  06/24/2022, 06:23:50   \n",
       "4978    superharvey                Rem   1458  06/23/2022, 16:44:18   \n",
       "5426    superharvey    Mikasa Ackerman   1399  06/23/2022, 06:53:36   \n",
       "9807      armadillo              Asuna   1374  06/21/2022, 05:08:00   \n",
       "33257   superharvey     Mai Sakurajima   1285  06/09/2022, 06:55:34   \n",
       "6486      armadillo        Miku Nakano   1273  06/22/2022, 21:47:09   \n",
       "6414      armadillo        Miku Nakano   1273  06/22/2022, 22:20:16   \n",
       "2442      armadillo  Violet Evergarden   1213  06/24/2022, 19:45:31   \n",
       "69478     armadillo     Mai Sakurajima   1151  05/23/2022, 12:05:24   \n",
       "68205     armadillo    Mikasa Ackerman   1150  05/24/2022, 01:57:10   \n",
       "39892     armadillo        Gojo Satoru   1145  06/06/2022, 02:46:53   \n",
       "47738     armadillo             Emilia   1142  06/02/2022, 14:58:14   \n",
       "34919     armadillo                Ram   1138  06/08/2022, 15:40:55   \n",
       "241       armadillo              Shiro   1129  06/25/2022, 19:46:06   \n",
       "62627      beetknee              Saber   1122  05/26/2022, 20:35:21   \n",
       "109630     old_user           Zero Two   1113  05/05/2022, 02:49:27   \n",
       "50976     Chaosfnog        Gojo Satoru   1110  06/01/2022, 01:46:07   \n",
       "92090     armadillo      Nezuko Kamado   1094  05/12/2022, 22:46:54   \n",
       "19855     armadillo        Himiko Toga   1081  06/16/2022, 08:46:16   \n",
       "48632      Pinscher     Chika Fujiwara   1078  06/02/2022, 02:29:37   \n",
       "\n",
       "              wished       claimed  \n",
       "3453             NaN           NaN  \n",
       "4978    2.511125e+17  2.511125e+17  \n",
       "5426             NaN           NaN  \n",
       "9807    2.798707e+17  2.511125e+17  \n",
       "33257            NaN           NaN  \n",
       "6486             NaN           NaN  \n",
       "6414             NaN           NaN  \n",
       "2442             NaN           NaN  \n",
       "69478   2.798707e+17  2.798707e+17  \n",
       "68205   2.798707e+17  2.798707e+17  \n",
       "39892            NaN           NaN  \n",
       "47738            NaN           NaN  \n",
       "34919   2.798707e+17  2.798707e+17  \n",
       "241              NaN           NaN  \n",
       "62627   3.769709e+17  2.511125e+17  \n",
       "109630  2.511125e+17  2.798707e+17  \n",
       "50976            NaN           NaN  \n",
       "92090   2.511125e+17  2.511125e+17  \n",
       "19855            NaN           NaN  \n",
       "48632            NaN           NaN  "
      ]
     },
     "execution_count": 109,
     "metadata": {},
     "output_type": "execute_result"
    }
   ],
   "source": [
    "top_rolls = rolldf.sort_values(['value'], ascending = False).head(20)\n",
    "top_rolls"
   ]
  },
  {
   "cell_type": "code",
   "execution_count": 110,
   "metadata": {},
   "outputs": [
    {
     "data": {
      "text/plain": [
       "armadillo      12\n",
       "superharvey     3\n",
       "beetknee        2\n",
       "old_user        1\n",
       "Chaosfnog       1\n",
       "Pinscher        1\n",
       "dtype: int64"
      ]
     },
     "execution_count": 110,
     "metadata": {},
     "output_type": "execute_result"
    }
   ],
   "source": [
    "pd.Series(Counter(top_rolls['roller'].values)).sort_values(ascending=False)"
   ]
  },
  {
   "cell_type": "code",
   "execution_count": 111,
   "metadata": {},
   "outputs": [],
   "source": [
    "roll_sums = defaultdict(lambda: 0)\n",
    "roll_counts = defaultdict(lambda: 0)\n",
    "def add_to_roll_count(r):\n",
    "    roll_sums[r['roller']] += r['value']\n",
    "    roll_counts[r['roller']] += 1\n",
    "\n",
    "rolldf.apply(lambda row: add_to_roll_count(row),axis = 1);"
   ]
  },
  {
   "cell_type": "code",
   "execution_count": 112,
   "metadata": {},
   "outputs": [
    {
     "data": {
      "text/plain": [
       "armadillo      49.781714\n",
       "superharvey    48.913157\n",
       "beetknee       46.028322\n",
       "sandmanggg     45.402059\n",
       "Pinscher       45.368692\n",
       "klutz          44.673440\n",
       "Chaosfnog      44.145714\n",
       "lilabeth       43.885038\n",
       "Mikey S.       42.866667\n",
       "mikes fargo    42.115212\n",
       "Matt           40.982041\n",
       "Tim G          37.872483\n",
       "dtype: float64"
      ]
     },
     "execution_count": 112,
     "metadata": {},
     "output_type": "execute_result"
    }
   ],
   "source": [
    "roll_avgs = {}\n",
    "for k in roll_sums:\n",
    "    if k != \"old_user\":\n",
    "        roll_avgs[k] = roll_sums[k] / roll_counts[k]\n",
    "pd.Series(roll_avgs).sort_values(ascending=False)"
   ]
  },
  {
   "cell_type": "code",
   "execution_count": 116,
   "metadata": {},
   "outputs": [
    {
     "data": {
      "text/plain": [
       "armadillo      1035\n",
       "superharvey     811\n",
       "beetknee        793\n",
       "lilabeth        545\n",
       "Chaosfnog       521\n",
       "mikes fargo     260\n",
       "old_user        182\n",
       "klutz           180\n",
       "sandmanggg      151\n",
       "Matt            136\n",
       "Mikey S.         76\n",
       "Pinscher         27\n",
       "Tim G             3\n",
       "dtype: int64"
      ]
     },
     "execution_count": 116,
     "metadata": {},
     "output_type": "execute_result"
    }
   ],
   "source": [
    "pd.Series(Counter(rolldf[rolldf['value']>100]['roller'])).sort_values(ascending=False)"
   ]
  },
  {
   "cell_type": "code",
   "execution_count": 114,
   "metadata": {},
   "outputs": [
    {
     "data": {
      "text/plain": [
       "armadillo      999119\n",
       "beetknee       947493\n",
       "superharvey    840915\n",
       "lilabeth       743237\n",
       "Chaosfnog      691057\n",
       "mikes fargo    384554\n",
       "klutz          277020\n",
       "old_user       202613\n",
       "Matt           200812\n",
       "sandmanggg     154367\n",
       "Mikey S.        90020\n",
       "Pinscher        44053\n",
       "Tim G            5643\n",
       "dtype: int64"
      ]
     },
     "execution_count": 114,
     "metadata": {},
     "output_type": "execute_result"
    }
   ],
   "source": [
    "\n",
    "pd.Series(roll_sums).sort_values(ascending=False)"
   ]
  },
  {
   "cell_type": "code",
   "execution_count": 117,
   "metadata": {},
   "outputs": [
    {
     "data": {
      "text/plain": [
       "KFP Employee                         14\n",
       "Hapu's Golurk                        14\n",
       "Ancient Gear Golem                   12\n",
       "Liza's Lunatone                      12\n",
       "Cyberdark Dragon                     12\n",
       "Sanford                              12\n",
       "2BDamned                             12\n",
       "Kukri Enjou                          12\n",
       "Ushio Kofune                         11\n",
       "Lusamine                             11\n",
       "Anne Faulkner                        11\n",
       "Red Daemon's Dragon Scarlight        11\n",
       "Dark (CCS)                           11\n",
       "Cherubimon                           11\n",
       "Anti-Venom                           11\n",
       "Fantina's Mismagius                  11\n",
       "Bili-tan 22                          11\n",
       "Holy Lightning - Books               11\n",
       "Lotta Hart                           10\n",
       "Mimi (PC)                            10\n",
       "Kotori's Mother                      10\n",
       "Effect Veiler                        10\n",
       "Thunder Dragon                       10\n",
       "Glameow                              10\n",
       "Sandy (PKMN)                         10\n",
       "Arceus                               10\n",
       "X (GC)                               10\n",
       "Earthbound God Ccapac Apu            10\n",
       "Black Rose Dragon                    10\n",
       "Athena (L&L)                         10\n",
       "Toxin                                10\n",
       "Nina Tucker                          10\n",
       "Garion (Legendz)                     10\n",
       "Calca Bessarez                       10\n",
       "Maylene                              10\n",
       "Reiko Yanagi                         10\n",
       "Chelsea Childe                       10\n",
       "Archfiend Marmot of Nefariousness    10\n",
       "Zee Captain                          10\n",
       "Yuzuki                               10\n",
       "Dryoid                               10\n",
       "Infernity Archfiend                  10\n",
       "Nyo!Prussia                          10\n",
       "Tofu                                 10\n",
       "Gimmick Puppet Shadow Feeler         10\n",
       "Tricky                               10\n",
       "The Maiden                           10\n",
       "Drew's Masquerain                    10\n",
       "Carol Bucklen                        10\n",
       "Yuzuki Shimada                       10\n",
       "dtype: int64"
      ]
     },
     "execution_count": 117,
     "metadata": {},
     "output_type": "execute_result"
    }
   ],
   "source": [
    "pd.Series(Counter(rolldf['name'])).sort_values(ascending=False).iloc[00:50]"
   ]
  },
  {
   "cell_type": "code",
   "execution_count": null,
   "metadata": {},
   "outputs": [],
   "source": []
  },
  {
   "cell_type": "code",
   "execution_count": 136,
   "metadata": {},
   "outputs": [
    {
     "data": {
      "text/plain": [
       "0.04862791940401723"
      ]
     },
     "execution_count": 136,
     "metadata": {},
     "output_type": "execute_result"
    }
   ],
   "source": [
    "len (rolldf[rolldf['value']>83]) / len(rolldf)"
   ]
  },
  {
   "cell_type": "code",
   "execution_count": 145,
   "metadata": {},
   "outputs": [],
   "source": [
    "import json\n",
    "import os"
   ]
  },
  {
   "cell_type": "code",
   "execution_count": 148,
   "metadata": {},
   "outputs": [
    {
     "data": {
      "text/plain": [
       "False"
      ]
     },
     "execution_count": 148,
     "metadata": {},
     "output_type": "execute_result"
    }
   ],
   "source": []
  },
  {
   "cell_type": "code",
   "execution_count": 161,
   "metadata": {},
   "outputs": [],
   "source": []
  },
  {
   "cell_type": "code",
   "execution_count": 165,
   "metadata": {},
   "outputs": [],
   "source": [
    "disable = cached_dict()"
   ]
  },
  {
   "cell_type": "code",
   "execution_count": 166,
   "metadata": {},
   "outputs": [
    {
     "data": {
      "text/plain": [
       "'yohaw'"
      ]
     },
     "execution_count": 166,
     "metadata": {},
     "output_type": "execute_result"
    }
   ],
   "source": [
    "disable.get('yo')"
   ]
  },
  {
   "cell_type": "code",
   "execution_count": 164,
   "metadata": {},
   "outputs": [],
   "source": [
    "disable.set('yo','yohaw')"
   ]
  },
  {
   "cell_type": "code",
   "execution_count": 167,
   "metadata": {},
   "outputs": [
    {
     "data": {
      "text/plain": [
       "1190000"
      ]
     },
     "execution_count": 167,
     "metadata": {},
     "output_type": "execute_result"
    }
   ],
   "source": [
    "sum([2000 + i * 200 for i in range(0,100)])"
   ]
  },
  {
   "cell_type": "code",
   "execution_count": null,
   "metadata": {},
   "outputs": [],
   "source": []
  }
 ],
 "metadata": {
  "interpreter": {
   "hash": "edab5665bcc99f609594df7a2a4905ce217cdab8691fdfae62ea08cef8a3aaa1"
  },
  "kernelspec": {
   "display_name": "Python 3.8.9 ('casinoenv': venv)",
   "language": "python",
   "name": "python3"
  },
  "language_info": {
   "codemirror_mode": {
    "name": "ipython",
    "version": 3
   },
   "file_extension": ".py",
   "mimetype": "text/x-python",
   "name": "python",
   "nbconvert_exporter": "python",
   "pygments_lexer": "ipython3",
   "version": "3.8.9"
  },
  "orig_nbformat": 4
 },
 "nbformat": 4,
 "nbformat_minor": 2
}
